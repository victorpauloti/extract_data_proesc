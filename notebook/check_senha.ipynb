{
 "cells": [
  {
   "cell_type": "code",
   "execution_count": null,
   "id": "e4240f31",
   "metadata": {},
   "outputs": [
    {
     "name": "stdout",
     "output_type": "stream",
     "text": [
      "Iniciando teste com a senha: '44797633840'\n",
      "Hash gerado com sucesso: scrypt:32768:8:1$MvFWWuWqut8Gehe3$88f172240c1c8533edb4c7b4a8c32a240b3b036e9627f25534cea61a16e67650ba65f4db5db590d9a0cf9de1ec4fcdf5077be0e2f482be4c29f6244bdd8d52e4\n",
      "Tamanho do hash: 162 caracteres\n",
      "\n",
      "DataFrame criado com o hash.\n",
      "Hash recuperado do DataFrame: scrypt:32768:8:1$MvFWWuWqut8Gehe3$88f172240c1c8533edb4c7b4a8c32a240b3b036e9627f25534cea61a16e67650ba65f4db5db590d9a0cf9de1ec4fcdf5077be0e2f482be4c29f6244bdd8d52e4\n",
      "\n",
      "O hash recuperado é válido? -> True\n",
      "SUCESSO: O ciclo de vida do hash em memória (gerar -> DataFrame -> recuperar) está funcionando corretamente.\n"
     ]
    }
   ],
   "source": [
    "import pandas as pd\n",
    "from werkzeug.security import generate_password_hash, check_password_hash\n",
    "\n",
    "def run_password_test(password: str):\n",
    "    \"\"\"\n",
    "    Executa um ciclo completo de geração, armazenamento em DataFrame e verificação de hash.\n",
    "    \"\"\"\n",
    "    print(f\"Iniciando teste com a senha: '{password}'\")\n",
    "\n",
    "    # 1. Geração do Hash (usando o método scrypt para ser idêntico ao seu)\n",
    "    try:\n",
    "        pwd_hashed = generate_password_hash(password, method='scrypt')\n",
    "        print(f\"Hash gerado com sucesso: {pwd_hashed}\")\n",
    "        print(f\"Tamanho do hash: {len(pwd_hashed)} caracteres\")\n",
    "    except Exception as e:\n",
    "        print(f\"Erro ao gerar o hash: {e}\")\n",
    "        return\n",
    "\n",
    "    # 2. Armazenamento em DataFrame\n",
    "    df = pd.DataFrame({'password_hash': [pwd_hashed]})\n",
    "    print(\"\\nDataFrame criado com o hash.\")\n",
    "\n",
    "    # 3. Recuperação do Hash\n",
    "    retrieved_hash = df.loc[0, 'password_hash']\n",
    "    print(f\"Hash recuperado do DataFrame: {retrieved_hash}\")\n",
    "\n",
    "    # 4. Verificação\n",
    "    # Esta verificação deve sempre funcionar, pois o hash não foi corrompido.\n",
    "    is_valid = check_password_hash(retrieved_hash, password)\n",
    "    print(f\"\\nO hash recuperado é válido? -> {is_valid}\")\n",
    "\n",
    "    if not is_valid:\n",
    "        print(\"ALERTA: A verificação falhou. O hash foi corrompido em memória.\")\n",
    "    else:\n",
    "        print(\"SUCESSO: O ciclo de vida do hash em memória (gerar -> DataFrame -> recuperar) está funcionando corretamente.\")\n",
    "\n",
    "# Execute o teste\n",
    "original_password = \"44797633840\"\n",
    "run_password_test(original_password)"
   ]
  },
  {
   "cell_type": "code",
   "execution_count": null,
   "id": "4713216e",
   "metadata": {},
   "outputs": [],
   "source": [
    "# from flask_bcrypt import generate_password_hash\n",
    "# '''\n",
    "#  percorre a lista de invoices para pegar dados pessoais\n",
    "#  os loop for percorre os indices de cada pagina\n",
    "#  e dentro de cada pagina percorre os dados pessoais\n",
    "#  e imprime os dados pessoais\n",
    "# '''\n",
    "# person_id = []\n",
    "# cpf = []\n",
    "# name = []\n",
    "# email = []\n",
    "# password = []\n",
    "# #acessa cada pagina da lista\n",
    "# for data_person_page in page_invoice_list:\n",
    "#             # if not data_person_page:\n",
    "#             # break\n",
    "#     for person_item in data_person_page['data']:\n",
    "#         try:\n",
    "#             person_data_api = person_item['pessoa'] or {}\n",
    "#             person_id_api = person_data_api['id']\n",
    "#             cpf_api = person_data_api['cadastro_nacional']\n",
    "#             name_api = person_data_api['nome']\n",
    "#             email_api = person_data_api['email_comunicacao']\n",
    "#             password_api = generate_password_hash(person_data_api['cadastro_nacional']).decode('utf-8')\n",
    "#         except Exception as e:\n",
    "#             print(f'Erro ao processar dados pessoais: {e}')\n",
    "#             continue\n",
    "#         #print(f'ID: {person_id_api} | CPF: {cpf_api} | NOME: {name_api} | EMAIL: {email_api}')\n",
    "        \n",
    "#         # XXXX carregando dados nas listas XXXXXXXXXXXXXXXXXX\n",
    "\n",
    "#         # strip para remover espaços em branco de uma string ambos os lados\n",
    "#         # lower para deixar tudo em minusculo\n",
    "#         person_id.append(person_id_api)\n",
    "#         cpf.append(cpf_api.strip())\n",
    "#         name.append(name_api.strip().upper()) \n",
    "#         email.append(email_api)\n",
    "#         password.append(password_api) "
   ]
  }
 ],
 "metadata": {
  "kernelspec": {
   "display_name": ".venv",
   "language": "python",
   "name": "python3"
  },
  "language_info": {
   "codemirror_mode": {
    "name": "ipython",
    "version": 3
   },
   "file_extension": ".py",
   "mimetype": "text/x-python",
   "name": "python",
   "nbconvert_exporter": "python",
   "pygments_lexer": "ipython3",
   "version": "3.12.3"
  }
 },
 "nbformat": 4,
 "nbformat_minor": 5
}
